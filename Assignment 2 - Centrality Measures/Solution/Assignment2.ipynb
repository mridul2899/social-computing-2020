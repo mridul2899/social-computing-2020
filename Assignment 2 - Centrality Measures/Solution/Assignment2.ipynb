{
 "cells": [
  {
   "cell_type": "code",
   "execution_count": 1,
   "metadata": {},
   "outputs": [],
   "source": [
    "import os\n",
    "try:\n",
    "    os.mkdir('centralities')\n",
    "except:\n",
    "    pass"
   ]
  },
  {
   "cell_type": "code",
   "execution_count": 2,
   "metadata": {},
   "outputs": [],
   "source": [
    "fb = open('facebook_combined.txt', 'r')\n",
    "nodes = set()\n",
    "lines = fb.readlines()\n",
    "for line in lines:\n",
    "    node1, node2 = [int(a) for a in line.strip().split()]\n",
    "    nodes.add(node1)\n",
    "    nodes.add(node2)"
   ]
  },
  {
   "cell_type": "code",
   "execution_count": 3,
   "metadata": {},
   "outputs": [],
   "source": [
    "nodes = list(nodes)\n",
    "nodes.sort()\n",
    "adjacency_list = [[] for node in nodes]\n",
    "for line in lines:\n",
    "    node1, node2 = [int(a) for a in line.strip().split()]\n",
    "    adjacency_list[node1].append(node2)\n",
    "    adjacency_list[node2].append(node1)"
   ]
  },
  {
   "cell_type": "code",
   "execution_count": 4,
   "metadata": {},
   "outputs": [],
   "source": [
    "num = len(nodes)\n",
    "sum_distance = [0 for node in nodes]\n",
    "for node in nodes:\n",
    "    visited = [0 for i in range(num)]\n",
    "    visited[node] = 1\n",
    "    all_nodes = []\n",
    "    all_nodes.append((node, 0))\n",
    "    while len(all_nodes) != 0:\n",
    "        current_node, dist = all_nodes.pop(0)\n",
    "        for NId in adjacency_list[current_node]:\n",
    "            if visited[NId] == 0:\n",
    "                all_nodes.append((NId, dist + 1))\n",
    "                sum_distance[node] += (dist + 1)\n",
    "                visited[NId] = 1"
   ]
  },
  {
   "cell_type": "code",
   "execution_count": 5,
   "metadata": {},
   "outputs": [],
   "source": [
    "close = []\n",
    "for node, value in enumerate(sum_distance):\n",
    "    close.append((node, value))\n",
    "close.sort(key=lambda x: x[1])"
   ]
  },
  {
   "cell_type": "code",
   "execution_count": 6,
   "metadata": {},
   "outputs": [],
   "source": [
    "closeness = open('centralities/closeness.txt', 'w')\n",
    "num = len(nodes)\n",
    "for (node, value) in close:\n",
    "    if value != 0:\n",
    "        closeness.write(f'{node} {round((num - 1) / value, 6)}\\n')\n",
    "    else:\n",
    "        closeness.write(f'{node} {0}\\n')\n",
    "closeness.close()"
   ]
  },
  {
   "cell_type": "code",
   "execution_count": 7,
   "metadata": {},
   "outputs": [],
   "source": [
    "# using Brandes' Algorithm\n",
    "betweenness = [0 for node in nodes]\n",
    "for node in nodes:\n",
    "    stack = []\n",
    "    paths = [[] for n in nodes]\n",
    "    number_of_paths = [0 for n in nodes]\n",
    "    number_of_paths[node] = 1\n",
    "    distances = [-1 for n in nodes]\n",
    "    distances[node] = 0\n",
    "    queue = []\n",
    "    queue.append(node)\n",
    "    while len(queue) > 0:\n",
    "        vertex = queue.pop(0)\n",
    "        stack.append(vertex)\n",
    "        for node2 in adjacency_list[vertex]:\n",
    "            if distances[node2] < 0:\n",
    "                queue.append(node2)\n",
    "                distances[node2] = distances[vertex] + 1\n",
    "            if distances[node2] == distances[vertex] + 1:\n",
    "                number_of_paths[node2] += number_of_paths[vertex]\n",
    "                paths[node2].append(vertex)\n",
    "    values = [0 for n in nodes]\n",
    "    while len(stack) > 0:\n",
    "        node2 = stack.pop()\n",
    "        for vertex in paths[node2]:\n",
    "            values[vertex] += (number_of_paths[vertex] / number_of_paths[node2]) * (1 + values[node2])\n",
    "        if node2 != node:\n",
    "            betweenness[node2] += values[node2]"
   ]
  },
  {
   "cell_type": "code",
   "execution_count": 8,
   "metadata": {},
   "outputs": [],
   "source": [
    "between = []\n",
    "for i in range(len(betweenness)):\n",
    "    betweenness[i] /= ((num - 1) * (num - 2))\n",
    "    between.append((i, betweenness[i]))"
   ]
  },
  {
   "cell_type": "code",
   "execution_count": 9,
   "metadata": {},
   "outputs": [],
   "source": [
    "between.sort(reverse=True, key=lambda x: x[1])"
   ]
  },
  {
   "cell_type": "code",
   "execution_count": 10,
   "metadata": {},
   "outputs": [],
   "source": [
    "betweennesses = open('centralities/betweenness.txt', 'w')\n",
    "for node, value in between:\n",
    "    betweennesses.write(f'{node} ')\n",
    "    betweennesses.write('%.6f' % round(value, 6))\n",
    "    betweennesses.write('\\n')\n",
    "betweennesses.close()"
   ]
  },
  {
   "cell_type": "code",
   "execution_count": 11,
   "metadata": {},
   "outputs": [],
   "source": [
    "div_4 = 0\n",
    "for node in nodes:\n",
    "    if node % 4 == 0:\n",
    "        div_4 += 1\n",
    "d = [(1 / div_4) if node % 4 == 0 else 0 for node in nodes]\n",
    "page_ranks = d[:]\n",
    "new_page_ranks = [0 for i in page_ranks]\n",
    "for i in range(100):\n",
    "    for node in nodes:\n",
    "        t = 0\n",
    "        for node2 in adjacency_list[node]:\n",
    "            t = t + page_ranks[node2] / len(adjacency_list[node2])\n",
    "        new_page_ranks[node] = 0.8 * t + 0.2 * d[node]\n",
    "    sum_l1 = sum(new_page_ranks)\n",
    "    for j in range(len(new_page_ranks)):\n",
    "        new_page_ranks[j] /= sum_l1\n",
    "    loop_again = False\n",
    "    for j in range(len(page_ranks)):\n",
    "        if abs(page_ranks[j] - new_page_ranks[j]) > 1e-8:\n",
    "            loop_again = True\n",
    "            break\n",
    "    if not loop_again:\n",
    "#         print(i + 1, \"iterations\")\n",
    "        break\n",
    "    page_ranks = new_page_ranks[:]"
   ]
  },
  {
   "cell_type": "code",
   "execution_count": 12,
   "metadata": {},
   "outputs": [],
   "source": [
    "for node, rank in enumerate(page_ranks):\n",
    "    page_ranks[node] = (node, rank)\n",
    "page_ranks.sort(reverse=True, key=lambda x: x[1])"
   ]
  },
  {
   "cell_type": "code",
   "execution_count": 13,
   "metadata": {},
   "outputs": [],
   "source": [
    "page_rank_centralities = open('centralities/pagerank.txt', 'w')\n",
    "for node, rank in page_ranks:\n",
    "    page_rank_centralities.write(f'{node} ')\n",
    "    page_rank_centralities.write('%.6f\\n' % round(rank, 6))\n",
    "page_rank_centralities.close()"
   ]
  },
  {
   "cell_type": "code",
   "execution_count": 14,
   "metadata": {},
   "outputs": [],
   "source": [
    "import snap"
   ]
  },
  {
   "cell_type": "code",
   "execution_count": 15,
   "metadata": {},
   "outputs": [],
   "source": [
    "fb = open('facebook_combined.txt', 'r')\n",
    "G = snap.TUNGraph().New()\n",
    "lines = fb.readlines()\n",
    "for line in lines:\n",
    "    node1, node2 = [int(a) for a in line.strip().split()]\n",
    "    try:\n",
    "        G.AddNode(node1)\n",
    "    except:\n",
    "        pass\n",
    "    try:\n",
    "        G.AddNode(node2)\n",
    "    except:\n",
    "        pass\n",
    "    G.AddEdge(node1, node2)"
   ]
  },
  {
   "cell_type": "code",
   "execution_count": 16,
   "metadata": {},
   "outputs": [],
   "source": [
    "snap_closeness = []\n",
    "for node in snap.Nodes(G):\n",
    "    value = snap.GetClosenessCentr(G, node.GetId())\n",
    "    snap_closeness.append((node.GetId(), value))\n",
    "snap_closeness.sort(reverse=True, key=lambda x: x[1])"
   ]
  },
  {
   "cell_type": "code",
   "execution_count": 17,
   "metadata": {},
   "outputs": [],
   "source": [
    "num = G.GetNodes()"
   ]
  },
  {
   "cell_type": "code",
   "execution_count": 18,
   "metadata": {},
   "outputs": [],
   "source": [
    "snap_between = []\n",
    "Nodes = snap.TIntFltH()\n",
    "Edges = snap.TIntPrFltH()\n",
    "snap.GetBetweennessCentr(G, Nodes, Edges, 0.8)\n",
    "for node in Nodes:\n",
    "    snap_between.append((node, 2 * Nodes[node] / ((num - 1) * (num - 2))))\n",
    "snap_between.sort(reverse=True, key=lambda x: x[1])"
   ]
  },
  {
   "cell_type": "code",
   "execution_count": 19,
   "metadata": {},
   "outputs": [],
   "source": [
    "snap_pagerank = []\n",
    "PRankH = snap.TIntFltH()\n",
    "snap.GetPageRank(G, PRankH, 0.8, 1e-8)\n",
    "for node in PRankH:\n",
    "    snap_pagerank.append((node, PRankH[node]))\n",
    "snap_pagerank.sort(reverse=True, key=lambda x: x[1])"
   ]
  },
  {
   "cell_type": "code",
   "execution_count": 20,
   "metadata": {},
   "outputs": [],
   "source": [
    "closeness = open('centralities/closeness.txt', 'r')\n",
    "betweenness = open('centralities/betweenness.txt', 'r')\n",
    "pagerank = open('centralities/pagerank.txt', 'r')\n",
    "nodes_close = set()\n",
    "nodes_between = set()\n",
    "nodes_pr = set()\n",
    "snap_nodes_close = set()\n",
    "snap_nodes_between = set()\n",
    "snap_nodes_pr = set()\n",
    "for i in range(100):\n",
    "    nodes_close.add(int(closeness.readline().strip().split()[0]))\n",
    "    nodes_between.add(int(betweenness.readline().strip().split()[0]))\n",
    "    nodes_pr.add(int(pagerank.readline().strip().split()[0]))\n",
    "    snap_nodes_close.add(snap_closeness[i][0])\n",
    "    snap_nodes_between.add(snap_between[i][0])\n",
    "    snap_nodes_pr.add(snap_pagerank[i][0])"
   ]
  },
  {
   "cell_type": "code",
   "execution_count": 21,
   "metadata": {},
   "outputs": [
    {
     "name": "stdout",
     "output_type": "stream",
     "text": [
      "#overlaps for Closeness Centrality: 100\n",
      "#overlaps for Betweenness Centrality: 97\n",
      "#overlaps for Closeness Centrality: 60\n"
     ]
    }
   ],
   "source": [
    "print(f'#overlaps for Closeness Centrality: {len(nodes_close.intersection(snap_nodes_close))}')\n",
    "print(f'#overlaps for Betweenness Centrality: {len(nodes_between.intersection(snap_nodes_between))}')\n",
    "print(f'#overlaps for Closeness Centrality: {len(nodes_pr.intersection(snap_nodes_pr))}')"
   ]
  },
  {
   "cell_type": "code",
   "execution_count": null,
   "metadata": {},
   "outputs": [],
   "source": []
  }
 ],
 "metadata": {
  "kernelspec": {
   "display_name": "Python 3",
   "language": "python",
   "name": "python3"
  },
  "language_info": {
   "codemirror_mode": {
    "name": "ipython",
    "version": 3
   },
   "file_extension": ".py",
   "mimetype": "text/x-python",
   "name": "python",
   "nbconvert_exporter": "python",
   "pygments_lexer": "ipython3",
   "version": "3.7.9"
  }
 },
 "nbformat": 4,
 "nbformat_minor": 4
}
